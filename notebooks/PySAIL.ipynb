{
 "cells": [
  {
   "cell_type": "code",
   "execution_count": 1,
   "metadata": {},
   "outputs": [],
   "source": [
    "%matplotlib inline\n",
    "import numpy as np\n",
    "import matplotlib.pyplot as plt\n",
    "import seaborn as sns\n",
    "from scipy import stats\n",
    "\n",
    "from sklearn import datasets\n",
    "from sklearn.metrics import classification_report, confusion_matrix\n",
    "from sklearn.linear_model import LogisticRegression\n",
    "\n",
    "from sklearn.pipeline import Pipeline\n",
    "from sklearn.feature_extraction.text import TfidfVectorizer\n",
    "\n",
    "import pandas as pd\n",
    "\n",
    "import warnings\n",
    "\n",
    "from SocialMediaIE.data.tokenization import tokenize"
   ]
  },
  {
   "cell_type": "code",
   "execution_count": 2,
   "metadata": {},
   "outputs": [],
   "source": [
    "sns.set_context(\"talk\")\n",
    "sns.set_style(\"ticks\")\n",
    "np.random.seed(1337)\n",
    "warnings.simplefilter(\"ignore\")"
   ]
  },
  {
   "cell_type": "code",
   "execution_count": 3,
   "metadata": {},
   "outputs": [
    {
     "data": {
      "text/html": [
       "<div>\n",
       "<style scoped>\n",
       "    .dataframe tbody tr th:only-of-type {\n",
       "        vertical-align: middle;\n",
       "    }\n",
       "\n",
       "    .dataframe tbody tr th {\n",
       "        vertical-align: top;\n",
       "    }\n",
       "\n",
       "    .dataframe thead th {\n",
       "        text-align: right;\n",
       "    }\n",
       "</style>\n",
       "<table border=\"1\" class=\"dataframe\">\n",
       "  <thead>\n",
       "    <tr style=\"text-align: right;\">\n",
       "      <th></th>\n",
       "      <th>word</th>\n",
       "      <th>sentiment</th>\n",
       "      <th>lexicon</th>\n",
       "      <th>lexicon_label</th>\n",
       "    </tr>\n",
       "  </thead>\n",
       "  <tbody>\n",
       "    <tr>\n",
       "      <th>0</th>\n",
       "      <td>abacus</td>\n",
       "      <td>trust</td>\n",
       "      <td>nrc</td>\n",
       "      <td>trust_nrc</td>\n",
       "    </tr>\n",
       "    <tr>\n",
       "      <th>1</th>\n",
       "      <td>abandon</td>\n",
       "      <td>fear</td>\n",
       "      <td>nrc</td>\n",
       "      <td>fear_nrc</td>\n",
       "    </tr>\n",
       "    <tr>\n",
       "      <th>2</th>\n",
       "      <td>abandon</td>\n",
       "      <td>negative</td>\n",
       "      <td>nrc</td>\n",
       "      <td>negative_nrc</td>\n",
       "    </tr>\n",
       "    <tr>\n",
       "      <th>3</th>\n",
       "      <td>abandon</td>\n",
       "      <td>sadness</td>\n",
       "      <td>nrc</td>\n",
       "      <td>sadness_nrc</td>\n",
       "    </tr>\n",
       "    <tr>\n",
       "      <th>4</th>\n",
       "      <td>abandoned</td>\n",
       "      <td>anger</td>\n",
       "      <td>nrc</td>\n",
       "      <td>anger_nrc</td>\n",
       "    </tr>\n",
       "  </tbody>\n",
       "</table>\n",
       "</div>"
      ],
      "text/plain": [
       "        word sentiment lexicon lexicon_label\n",
       "0     abacus     trust     nrc     trust_nrc\n",
       "1    abandon      fear     nrc      fear_nrc\n",
       "2    abandon  negative     nrc  negative_nrc\n",
       "3    abandon   sadness     nrc   sadness_nrc\n",
       "4  abandoned     anger     nrc     anger_nrc"
      ]
     },
     "execution_count": 3,
     "metadata": {},
     "output_type": "execute_result"
    }
   ],
   "source": [
    "df_lexicon = pd.read_csv(\"../data/sentiments.csv\")\n",
    "df_lexicon = df_lexicon[df_lexicon.score.isnull()].drop(\"score\", axis=1).assign(\n",
    "    lexicon_label=lambda x: x.sentiment.str.cat(x.lexicon, sep=\"_\")\n",
    ")\n",
    "df_lexicon.head()"
   ]
  },
  {
   "cell_type": "code",
   "execution_count": 4,
   "metadata": {},
   "outputs": [
    {
     "data": {
      "text/plain": [
       "word\n",
       "2-faced                                      [negative_bing]\n",
       "2-faces                                      [negative_bing]\n",
       "a+                                           [positive_bing]\n",
       "abacus                                           [trust_nrc]\n",
       "abandon    [fear_nrc, negative_nrc, sadness_nrc, negative...\n",
       "Name: lexicon_label, dtype: object"
      ]
     },
     "execution_count": 4,
     "metadata": {},
     "output_type": "execute_result"
    }
   ],
   "source": [
    "df_lexicon.groupby(\"word\").lexicon_label.apply(list).head()"
   ]
  },
  {
   "cell_type": "code",
   "execution_count": 5,
   "metadata": {},
   "outputs": [
    {
     "data": {
      "text/plain": [
       "['fear_nrc', 'negative_nrc', 'sadness_nrc', 'negative_mcdonald']"
      ]
     },
     "execution_count": 5,
     "metadata": {},
     "output_type": "execute_result"
    }
   ],
   "source": [
    "SENTIMENT_LEXICON=df_lexicon.groupby(\"word\").lexicon_label.apply(list).to_dict()\n",
    "SENTIMENT_LEXICON[\"abandon\"]"
   ]
  },
  {
   "cell_type": "code",
   "execution_count": 11,
   "metadata": {},
   "outputs": [
    {
     "data": {
      "text/plain": [
       "[1, 2]"
      ]
     },
     "execution_count": 11,
     "metadata": {},
     "output_type": "execute_result"
    }
   ],
   "source": [
    "list(filter(lambda x: x, [1, \"\", 2]))"
   ]
  },
  {
   "cell_type": "code",
   "execution_count": 6,
   "metadata": {},
   "outputs": [],
   "source": [
    "def process_token(token):\n",
    "    token = token.lower()\n",
    "    if token.startswith(\"@\"):\n",
    "        return \"@USER\"\n",
    "    if token.startswith(\"#\"):\n",
    "        return \"#HASHTAG\"\n",
    "    if token.startswith((\"http://\", \"https://\", \"www.\")):\n",
    "        return \"http://URL.COM\"\n",
    "    return token\n",
    "\n",
    "def preprocess_text(text):\n",
    "    tokens = [process_token(token) for token in tokenize(text)]\n",
    "    lexicon_items = sum([SENTIMENT_LEXICON.get(k, []) for k in tokens], [])\n",
    "    return tokens+lexicon_items"
   ]
  },
  {
   "cell_type": "code",
   "execution_count": 7,
   "metadata": {},
   "outputs": [
    {
     "data": {
      "text/html": [
       "<div>\n",
       "<style scoped>\n",
       "    .dataframe tbody tr th:only-of-type {\n",
       "        vertical-align: middle;\n",
       "    }\n",
       "\n",
       "    .dataframe tbody tr th {\n",
       "        vertical-align: top;\n",
       "    }\n",
       "\n",
       "    .dataframe thead th {\n",
       "        text-align: right;\n",
       "    }\n",
       "</style>\n",
       "<table border=\"1\" class=\"dataframe\">\n",
       "  <thead>\n",
       "    <tr style=\"text-align: right;\">\n",
       "      <th></th>\n",
       "      <th>label</th>\n",
       "      <th>text</th>\n",
       "      <th>tweet_id</th>\n",
       "    </tr>\n",
       "  </thead>\n",
       "  <tbody>\n",
       "    <tr>\n",
       "      <th>0</th>\n",
       "      <td>neutral</td>\n",
       "      <td>Today's news: Democrats offer Republicans ever...</td>\n",
       "      <td>90832477970636801</td>\n",
       "    </tr>\n",
       "    <tr>\n",
       "      <th>1</th>\n",
       "      <td>neutral</td>\n",
       "      <td>@stanscates I would use that in ads from now u...</td>\n",
       "      <td>90835879622488064</td>\n",
       "    </tr>\n",
       "    <tr>\n",
       "      <th>2</th>\n",
       "      <td>neutral</td>\n",
       "      <td>Microsoft issues critical patch for Windows 7,...</td>\n",
       "      <td>90854967476363265</td>\n",
       "    </tr>\n",
       "    <tr>\n",
       "      <th>3</th>\n",
       "      <td>neutral</td>\n",
       "      <td>will testdrive the new Nokia N9 phone with our...</td>\n",
       "      <td>90905261992194048</td>\n",
       "    </tr>\n",
       "    <tr>\n",
       "      <th>4</th>\n",
       "      <td>negative</td>\n",
       "      <td>no way to underestimate the madness and cynici...</td>\n",
       "      <td>90965889557594112</td>\n",
       "    </tr>\n",
       "  </tbody>\n",
       "</table>\n",
       "</div>"
      ],
      "text/plain": [
       "      label                                               text  \\\n",
       "0   neutral  Today's news: Democrats offer Republicans ever...   \n",
       "1   neutral  @stanscates I would use that in ads from now u...   \n",
       "2   neutral  Microsoft issues critical patch for Windows 7,...   \n",
       "3   neutral  will testdrive the new Nokia N9 phone with our...   \n",
       "4  negative  no way to underestimate the madness and cynici...   \n",
       "\n",
       "            tweet_id  \n",
       "0  90832477970636801  \n",
       "1  90835879622488064  \n",
       "2  90854967476363265  \n",
       "3  90905261992194048  \n",
       "4  90965889557594112  "
      ]
     },
     "execution_count": 7,
     "metadata": {},
     "output_type": "execute_result"
    }
   ],
   "source": [
    "DATA_KEY=\"SemEval\"\n",
    "df_train = pd.read_json(f\"../data/processed/SENTIMENT/{DATA_KEY}/train.json\", orient=\"records\", lines=True)\n",
    "df_dev = pd.read_json(f\"../data/processed/SENTIMENT/{DATA_KEY}/dev.json\", orient=\"records\", lines=True)\n",
    "df_test = pd.read_json(f\"../data/processed/SENTIMENT/{DATA_KEY}/test.json\", orient=\"records\", lines=True)\n",
    "df_train.head()"
   ]
  },
  {
   "cell_type": "code",
   "execution_count": 8,
   "metadata": {},
   "outputs": [
    {
     "data": {
      "text/plain": [
       "0    [today's, news, :, democrats, offer, republica...\n",
       "1    [@USER, i, would, use, that, in, ads, from, no...\n",
       "2    [microsoft, issues, critical, patch, for, wind...\n",
       "3    [will, testdrive, the, new, nokia, n, 9, phone...\n",
       "4    [no, way, to, underestimate, the, madness, and...\n",
       "Name: text, dtype: object"
      ]
     },
     "execution_count": 8,
     "metadata": {},
     "output_type": "execute_result"
    }
   ],
   "source": [
    "df_train.text.head().apply(preprocess_text)"
   ]
  },
  {
   "cell_type": "code",
   "execution_count": 9,
   "metadata": {},
   "outputs": [],
   "source": [
    "steps = [('TfidfVectorizer', TfidfVectorizer(tokenizer=preprocess_text)), ('model', LogisticRegression())]\n",
    "model = Pipeline(steps)"
   ]
  },
  {
   "cell_type": "code",
   "execution_count": 10,
   "metadata": {},
   "outputs": [
    {
     "data": {
      "text/plain": [
       "Pipeline(memory=None,\n",
       "     steps=[('TfidfVectorizer', TfidfVectorizer(analyzer='word', binary=False, decode_error='strict',\n",
       "        dtype=<class 'numpy.float64'>, encoding='utf-8', input='content',\n",
       "        lowercase=True, max_df=1.0, max_features=None, min_df=1,\n",
       "        ngram_range=(1, 1), norm='l2', preprocessor=None, smooth...penalty='l2', random_state=None, solver='warn',\n",
       "          tol=0.0001, verbose=0, warm_start=False))])"
      ]
     },
     "execution_count": 10,
     "metadata": {},
     "output_type": "execute_result"
    }
   ],
   "source": [
    "model.fit(df_train.text, df_train.label)"
   ]
  },
  {
   "cell_type": "code",
   "execution_count": 11,
   "metadata": {},
   "outputs": [
    {
     "data": {
      "text/plain": [
       "array(['negative', 'neutral', 'positive'], dtype=object)"
      ]
     },
     "execution_count": 11,
     "metadata": {},
     "output_type": "execute_result"
    }
   ],
   "source": [
    "model.classes_"
   ]
  },
  {
   "cell_type": "code",
   "execution_count": 12,
   "metadata": {},
   "outputs": [
    {
     "data": {
      "text/plain": [
       "array([0.76540138, 0.85810154, 0.45975235, 1.08641873, 0.8809548 ,\n",
       "       0.59857655, 0.6321533 , 0.77115378, 0.84610299, 0.91418489])"
      ]
     },
     "execution_count": 12,
     "metadata": {},
     "output_type": "execute_result"
    }
   ],
   "source": [
    "stats.entropy(model.predict_proba(df_dev.head(10).text).T)"
   ]
  },
  {
   "cell_type": "code",
   "execution_count": 13,
   "metadata": {},
   "outputs": [
    {
     "data": {
      "text/plain": [
       "(          negative  neutral  positive\n",
       " negative       242      429       165\n",
       " neutral        151     1231       397\n",
       " positive        83      764      1121,\n",
       "               f1-score  precision    recall  support\n",
       " negative      0.368902   0.508403  0.289474    836.0\n",
       " neutral       0.585772   0.507838  0.691962   1779.0\n",
       " positive      0.614078   0.666072  0.569614   1968.0\n",
       " micro avg     0.566005   0.566005  0.566005   4583.0\n",
       " macro avg     0.522918   0.560771  0.517016   4583.0\n",
       " weighted avg  0.558367   0.575889  0.566005   4583.0)"
      ]
     },
     "execution_count": 13,
     "metadata": {},
     "output_type": "execute_result"
    }
   ],
   "source": [
    "def classification_metrics(df, model):\n",
    "    true_labels = df.label\n",
    "    predicted_labels = model.predict(df.text)\n",
    "    report = pd.DataFrame(classification_report(true_labels, predicted_labels, output_dict=True)).T\n",
    "    cm = confusion_matrix(true_labels, predicted_labels)\n",
    "    cm = pd.DataFrame(cm, columns=model.classes_, index=model.classes_)\n",
    "    return cm, report\n",
    "\n",
    "classification_metrics(df_dev, model)"
   ]
  },
  {
   "cell_type": "code",
   "execution_count": 14,
   "metadata": {},
   "outputs": [],
   "source": [
    "def get_predictions(df, model, scoring=stats.entropy):\n",
    "    predictions = model.predict_proba(df.text)\n",
    "    selection_scores = scoring(predictions.T)\n",
    "    predictions = pd.DataFrame(predictions, columns=model.classes_, index=df.index)\n",
    "    predictions[\"selection_scores\"] = selection_scores\n",
    "    return pd.concat([df, predictions], axis=1)"
   ]
  },
  {
   "cell_type": "code",
   "execution_count": 15,
   "metadata": {},
   "outputs": [
    {
     "data": {
      "text/html": [
       "<div>\n",
       "<style scoped>\n",
       "    .dataframe tbody tr th:only-of-type {\n",
       "        vertical-align: middle;\n",
       "    }\n",
       "\n",
       "    .dataframe tbody tr th {\n",
       "        vertical-align: top;\n",
       "    }\n",
       "\n",
       "    .dataframe thead th {\n",
       "        text-align: right;\n",
       "    }\n",
       "</style>\n",
       "<table border=\"1\" class=\"dataframe\">\n",
       "  <thead>\n",
       "    <tr style=\"text-align: right;\">\n",
       "      <th></th>\n",
       "      <th>label</th>\n",
       "      <th>text</th>\n",
       "      <th>tweet_id</th>\n",
       "      <th>negative</th>\n",
       "      <th>neutral</th>\n",
       "      <th>positive</th>\n",
       "      <th>selection_scores</th>\n",
       "    </tr>\n",
       "  </thead>\n",
       "  <tbody>\n",
       "    <tr>\n",
       "      <th>1892</th>\n",
       "      <td>neutral</td>\n",
       "      <td>@mrpete1972 @MyTeamStorm UKIP was on media bla...</td>\n",
       "      <td>633658499952676864</td>\n",
       "      <td>0.326979</td>\n",
       "      <td>0.341115</td>\n",
       "      <td>0.331906</td>\n",
       "      <td>1.098458</td>\n",
       "    </tr>\n",
       "    <tr>\n",
       "      <th>879</th>\n",
       "      <td>neutral</td>\n",
       "      <td>My mums going to Liverpool shopping tomorrow a...</td>\n",
       "      <td>264157870948495360</td>\n",
       "      <td>0.346976</td>\n",
       "      <td>0.324369</td>\n",
       "      <td>0.328655</td>\n",
       "      <td>1.098182</td>\n",
       "    </tr>\n",
       "    <tr>\n",
       "      <th>896</th>\n",
       "      <td>negative</td>\n",
       "      <td>Oh God can ABC be more obvious? They keep tout...</td>\n",
       "      <td>264169551183376385</td>\n",
       "      <td>0.320023</td>\n",
       "      <td>0.343406</td>\n",
       "      <td>0.336571</td>\n",
       "      <td>1.098177</td>\n",
       "    </tr>\n",
       "    <tr>\n",
       "      <th>4232</th>\n",
       "      <td>positive</td>\n",
       "      <td>taylor swift will be 5 hours away  from me tom...</td>\n",
       "      <td>641453487667048448</td>\n",
       "      <td>0.347962</td>\n",
       "      <td>0.318243</td>\n",
       "      <td>0.333794</td>\n",
       "      <td>1.097949</td>\n",
       "    </tr>\n",
       "    <tr>\n",
       "      <th>3818</th>\n",
       "      <td>negative</td>\n",
       "      <td>Hey @TonyAbbottMHR, the Pope missed your commu...</td>\n",
       "      <td>641176871145635840</td>\n",
       "      <td>0.324611</td>\n",
       "      <td>0.324648</td>\n",
       "      <td>0.350741</td>\n",
       "      <td>1.097936</td>\n",
       "    </tr>\n",
       "    <tr>\n",
       "      <th>2796</th>\n",
       "      <td>positive</td>\n",
       "      <td>Today is the 28th Anniversary of Michael Jacks...</td>\n",
       "      <td>638342682117570560</td>\n",
       "      <td>0.315761</td>\n",
       "      <td>0.334439</td>\n",
       "      <td>0.349801</td>\n",
       "      <td>1.097739</td>\n",
       "    </tr>\n",
       "    <tr>\n",
       "      <th>421</th>\n",
       "      <td>negative</td>\n",
       "      <td>Come scoop meRT @_BoatsnHoes: I gotta go shopp...</td>\n",
       "      <td>263146025630437376</td>\n",
       "      <td>0.337547</td>\n",
       "      <td>0.314039</td>\n",
       "      <td>0.348414</td>\n",
       "      <td>1.097680</td>\n",
       "    </tr>\n",
       "    <tr>\n",
       "      <th>1853</th>\n",
       "      <td>neutral</td>\n",
       "      <td>There's one difference here. HHH was never Ric...</td>\n",
       "      <td>633462328588148736</td>\n",
       "      <td>0.356337</td>\n",
       "      <td>0.316718</td>\n",
       "      <td>0.326945</td>\n",
       "      <td>1.097353</td>\n",
       "    </tr>\n",
       "    <tr>\n",
       "      <th>3469</th>\n",
       "      <td>positive</td>\n",
       "      <td>.@rebs_0 Valentine was the first PTX song that...</td>\n",
       "      <td>640324637075894272</td>\n",
       "      <td>0.336437</td>\n",
       "      <td>0.311028</td>\n",
       "      <td>0.352535</td>\n",
       "      <td>1.097292</td>\n",
       "    </tr>\n",
       "    <tr>\n",
       "      <th>311</th>\n",
       "      <td>negative</td>\n",
       "      <td>Napoleon Dynamite may be the most awkward pers...</td>\n",
       "      <td>262288470612013056</td>\n",
       "      <td>0.308747</td>\n",
       "      <td>0.346287</td>\n",
       "      <td>0.344966</td>\n",
       "      <td>1.097233</td>\n",
       "    </tr>\n",
       "  </tbody>\n",
       "</table>\n",
       "</div>"
      ],
      "text/plain": [
       "         label                                               text  \\\n",
       "1892   neutral  @mrpete1972 @MyTeamStorm UKIP was on media bla...   \n",
       "879    neutral  My mums going to Liverpool shopping tomorrow a...   \n",
       "896   negative  Oh God can ABC be more obvious? They keep tout...   \n",
       "4232  positive  taylor swift will be 5 hours away  from me tom...   \n",
       "3818  negative  Hey @TonyAbbottMHR, the Pope missed your commu...   \n",
       "2796  positive  Today is the 28th Anniversary of Michael Jacks...   \n",
       "421   negative  Come scoop meRT @_BoatsnHoes: I gotta go shopp...   \n",
       "1853   neutral  There's one difference here. HHH was never Ric...   \n",
       "3469  positive  .@rebs_0 Valentine was the first PTX song that...   \n",
       "311   negative  Napoleon Dynamite may be the most awkward pers...   \n",
       "\n",
       "                tweet_id  negative   neutral  positive  selection_scores  \n",
       "1892  633658499952676864  0.326979  0.341115  0.331906          1.098458  \n",
       "879   264157870948495360  0.346976  0.324369  0.328655          1.098182  \n",
       "896   264169551183376385  0.320023  0.343406  0.336571          1.098177  \n",
       "4232  641453487667048448  0.347962  0.318243  0.333794          1.097949  \n",
       "3818  641176871145635840  0.324611  0.324648  0.350741          1.097936  \n",
       "2796  638342682117570560  0.315761  0.334439  0.349801          1.097739  \n",
       "421   263146025630437376  0.337547  0.314039  0.348414          1.097680  \n",
       "1853  633462328588148736  0.356337  0.316718  0.326945          1.097353  \n",
       "3469  640324637075894272  0.336437  0.311028  0.352535          1.097292  \n",
       "311   262288470612013056  0.308747  0.346287  0.344966          1.097233  "
      ]
     },
     "execution_count": 15,
     "metadata": {},
     "output_type": "execute_result"
    }
   ],
   "source": [
    "df_pred = get_predictions(df_dev, model)\n",
    "df_pred.sort_values(\"selection_scores\", ascending=False).head(10)"
   ]
  },
  {
   "cell_type": "code",
   "execution_count": 16,
   "metadata": {},
   "outputs": [
    {
     "data": {
      "text/plain": [
       "<matplotlib.axes._subplots.AxesSubplot at 0x1bdb3f5c668>"
      ]
     },
     "execution_count": 16,
     "metadata": {},
     "output_type": "execute_result"
    },
    {
     "data": {
      "image/png": "[encoded data removed]",
      "text/plain": [
       "<Figure size 432x288 with 1 Axes>"
      ]
     },
     "metadata": {},
     "output_type": "display_data"
    }
   ],
   "source": [
    "df_pred.selection_scores.plot(kind=\"hist\", bins=100, density=True, weights=np.ones_like(df_pred.selection_scores))"
   ]
  },
  {
   "cell_type": "code",
   "execution_count": 17,
   "metadata": {},
   "outputs": [
    {
     "data": {
      "text/plain": [
       "(12245, 3)"
      ]
     },
     "execution_count": 17,
     "metadata": {},
     "output_type": "execute_result"
    }
   ],
   "source": [
    "df_train.shape"
   ]
  },
  {
   "cell_type": "code",
   "execution_count": 18,
   "metadata": {},
   "outputs": [
    {
     "data": {
      "text/plain": [
       "(1000,)"
      ]
     },
     "execution_count": 18,
     "metadata": {},
     "output_type": "execute_result"
    }
   ],
   "source": [
    "df_train[\"selected\"] = False\n",
    "SEED_SIZE=1000\n",
    "selected_indexes = np.random.choice(df_train.index, size=SEED_SIZE, replace=False)\n",
    "df_train.loc[selected_indexes, \"selected\"] = True\n",
    "selected_indexes.shape"
   ]
  },
  {
   "cell_type": "code",
   "execution_count": 19,
   "metadata": {},
   "outputs": [
    {
     "data": {
      "text/html": [
       "<div>\n",
       "<style scoped>\n",
       "    .dataframe tbody tr th:only-of-type {\n",
       "        vertical-align: middle;\n",
       "    }\n",
       "\n",
       "    .dataframe tbody tr th {\n",
       "        vertical-align: top;\n",
       "    }\n",
       "\n",
       "    .dataframe thead th {\n",
       "        text-align: right;\n",
       "    }\n",
       "</style>\n",
       "<table border=\"1\" class=\"dataframe\">\n",
       "  <thead>\n",
       "    <tr style=\"text-align: right;\">\n",
       "      <th></th>\n",
       "      <th>label</th>\n",
       "      <th>text</th>\n",
       "      <th>tweet_id</th>\n",
       "      <th>selected</th>\n",
       "    </tr>\n",
       "  </thead>\n",
       "  <tbody>\n",
       "    <tr>\n",
       "      <th>1</th>\n",
       "      <td>neutral</td>\n",
       "      <td>@stanscates I would use that in ads from now u...</td>\n",
       "      <td>90835879622488064</td>\n",
       "      <td>True</td>\n",
       "    </tr>\n",
       "    <tr>\n",
       "      <th>13</th>\n",
       "      <td>neutral</td>\n",
       "      <td>Democrats defeat Republicans 8-2 in Congressio...</td>\n",
       "      <td>91687000574394370</td>\n",
       "      <td>True</td>\n",
       "    </tr>\n",
       "    <tr>\n",
       "      <th>22</th>\n",
       "      <td>negative</td>\n",
       "      <td>@charliemax Democrats will quickly implode and...</td>\n",
       "      <td>96679152068988928</td>\n",
       "      <td>True</td>\n",
       "    </tr>\n",
       "    <tr>\n",
       "      <th>31</th>\n",
       "      <td>negative</td>\n",
       "      <td>I'm stuck in London again... :( I don't wanna ...</td>\n",
       "      <td>100001199650123776</td>\n",
       "      <td>True</td>\n",
       "    </tr>\n",
       "    <tr>\n",
       "      <th>45</th>\n",
       "      <td>neutral</td>\n",
       "      <td>Trying to go out tonight!!! Where is there to ...</td>\n",
       "      <td>100002743019769856</td>\n",
       "      <td>True</td>\n",
       "    </tr>\n",
       "  </tbody>\n",
       "</table>\n",
       "</div>"
      ],
      "text/plain": [
       "       label                                               text  \\\n",
       "1    neutral  @stanscates I would use that in ads from now u...   \n",
       "13   neutral  Democrats defeat Republicans 8-2 in Congressio...   \n",
       "22  negative  @charliemax Democrats will quickly implode and...   \n",
       "31  negative  I'm stuck in London again... :( I don't wanna ...   \n",
       "45   neutral  Trying to go out tonight!!! Where is there to ...   \n",
       "\n",
       "              tweet_id  selected  \n",
       "1    90835879622488064      True  \n",
       "13   91687000574394370      True  \n",
       "22   96679152068988928      True  \n",
       "31  100001199650123776      True  \n",
       "45  100002743019769856      True  "
      ]
     },
     "execution_count": 19,
     "metadata": {},
     "output_type": "execute_result"
    }
   ],
   "source": [
    "df_train[df_train.selected].head()"
   ]
  },
  {
   "cell_type": "code",
   "execution_count": 20,
   "metadata": {},
   "outputs": [
    {
     "data": {
      "text/plain": [
       "array([4524, 5964, 2810, ..., 1108, 7135, 6571], dtype=int64)"
      ]
     },
     "execution_count": 20,
     "metadata": {},
     "output_type": "execute_result"
    }
   ],
   "source": [
    "np.hstack([selected_indexes, selected_indexes])"
   ]
  },
  {
   "cell_type": "code",
   "execution_count": 21,
   "metadata": {},
   "outputs": [],
   "source": [
    "base_metrics = {}\n",
    "base_metrics[\"train\"] = classification_metrics(df_train, model)\n",
    "base_metrics[\"dev\"] = classification_metrics(df_dev, model)\n",
    "base_metrics[\"test\"] = classification_metrics(df_test, model)"
   ]
  },
  {
   "cell_type": "code",
   "execution_count": 22,
   "metadata": {},
   "outputs": [],
   "source": [
    "SEED_SIZE=1000\n",
    "selected_indexes = np.random.choice(df_train.index, size=SEED_SIZE, replace=False)"
   ]
  },
  {
   "cell_type": "code",
   "execution_count": 23,
   "metadata": {},
   "outputs": [],
   "source": [
    "def plot_metrics(metrics, key=\"f1-score\", base_metric=None):\n",
    "    df_metrics = pd.concat([\n",
    "        iter_metrics[1][key].to_frame().T.melt(var_name=\"metric\").assign(iteration=i)\n",
    "        for i, iter_metrics in enumerate(metrics)\n",
    "    ], axis=0)\n",
    "    g = sns.FacetGrid(df_metrics, col=\"metric\", sharey=True, ylim=(0, 1))\n",
    "    g.map(plt.plot, \"iteration\", \"value\", marker=\".\")\n",
    "    if base_metric is not None:\n",
    "        for ax, c in zip(g.axes.flatten(), g.col_names):\n",
    "            ax.axhline(y=base_metric[1].loc[c, key], color=\"k\", linestyle=\"--\")\n",
    "    return df_metrics"
   ]
  },
  {
   "cell_type": "markdown",
   "metadata": {},
   "source": [
    "## Experiments using max entropy selection"
   ]
  },
  {
   "cell_type": "code",
   "execution_count": 24,
   "metadata": {
    "scrolled": false
   },
   "outputs": [
    {
     "name": "stdout",
     "output_type": "stream",
     "text": [
      "Starting iteration 0\n",
      "Selected data distribution: {'negative': 49, 'neutral': 28, 'positive': 23}\n",
      "Total training size: 1100\n",
      "Starting iteration 1\n",
      "Selected data distribution: {'neutral': 36, 'negative': 35, 'positive': 29}\n",
      "Total training size: 1200\n",
      "Starting iteration 2\n",
      "Selected data distribution: {'negative': 38, 'neutral': 33, 'positive': 29}\n",
      "Total training size: 1300\n",
      "Starting iteration 3\n",
      "Selected data distribution: {'neutral': 42, 'negative': 30, 'positive': 28}\n",
      "Total training size: 1400\n",
      "Starting iteration 4\n",
      "Selected data distribution: {'neutral': 43, 'negative': 32, 'positive': 25}\n",
      "Total training size: 1500\n",
      "Starting iteration 5\n",
      "Selected data distribution: {'neutral': 42, 'negative': 35, 'positive': 23}\n",
      "Total training size: 1600\n",
      "Starting iteration 6\n",
      "Selected data distribution: {'neutral': 44, 'positive': 37, 'negative': 19}\n",
      "Total training size: 1700\n",
      "Starting iteration 7\n",
      "Selected data distribution: {'neutral': 38, 'negative': 33, 'positive': 29}\n",
      "Total training size: 1800\n",
      "Starting iteration 8\n",
      "Selected data distribution: {'neutral': 44, 'negative': 34, 'positive': 22}\n",
      "Total training size: 1900\n",
      "Starting iteration 9\n",
      "Selected data distribution: {'positive': 36, 'neutral': 33, 'negative': 31}\n",
      "Total training size: 2000\n"
     ]
    }
   ],
   "source": [
    "df_train[\"selected\"] = False\n",
    "df_train.loc[selected_indexes, \"selected\"] = True\n",
    "\n",
    "train_metrics = []\n",
    "dev_metrics = []\n",
    "test_metrics = []\n",
    "training_indexes = selected_indexes\n",
    "ANNOTATIONS_PER_STEP=100\n",
    "MAX_ITERATIONS=10\n",
    "\n",
    "steps = [\n",
    "    ('TfidfVectorizer', TfidfVectorizer(tokenizer=preprocess_text, stop_words=\"english\")), \n",
    "    ('model', LogisticRegression())\n",
    "]\n",
    "model = Pipeline(steps)\n",
    "\n",
    "for i in range(MAX_ITERATIONS):\n",
    "    print(f\"Starting iteration {i}\")\n",
    "    # Identifiy selected data\n",
    "    df_selected = df_train[df_train.selected]\n",
    "    df_unselected = df_train[~df_train.selected]\n",
    "    # Fit model\n",
    "    model.fit(df_selected.text, df_selected.label)\n",
    "    # Get model metrics\n",
    "    train_metrics.append(classification_metrics(df_unselected, model))\n",
    "    dev_metrics.append(classification_metrics(df_dev, model))\n",
    "    test_metrics.append(classification_metrics(df_test, model))\n",
    "    #print(f\"Dev metrics: {dev_metrics[-1][1]}\")\n",
    "    #print(f\"Test metrics: {test_metrics[-1][1]}\")\n",
    "    # Get model predictions on unselected data\n",
    "    df_pred = get_predictions(df_unselected, model)\n",
    "    #df_pred.selection_scores.plot(kind=\"hist\", bins=100, density=True)\n",
    "    #plt.show()\n",
    "    # Identify top instances to label\n",
    "    new_indexes = df_pred.sort_values(\"selection_scores\", ascending=False).head(ANNOTATIONS_PER_STEP).index\n",
    "    print(f\"Selected data distribution: {df_pred.loc[new_indexes].label.value_counts().to_dict()}\")\n",
    "    # Add these instances to the training data\n",
    "    training_indexes = np.hstack([training_indexes, new_indexes])\n",
    "    df_train.loc[new_indexes, \"selected\"] = True\n",
    "    print(f\"Total training size: {df_train[df_train.selected].shape[0]}\")\n",
    "\n",
    "# Fit on the last data\n",
    "df_selected = df_train[df_train.selected]\n",
    "df_unselected = df_train[~df_train.selected]\n",
    "model.fit(df_selected.text, df_selected.label)\n",
    "train_metrics.append(classification_metrics(df_unselected, model))\n",
    "dev_metrics.append(classification_metrics(df_dev, model))\n",
    "test_metrics.append(classification_metrics(df_test, model))"
   ]
  },
  {
   "cell_type": "code",
   "execution_count": 25,
   "metadata": {},
   "outputs": [
    {
     "data": {
      "image/png": "[encoded data removed]",
      "text/plain": [
       "<Figure size 1296x216 with 6 Axes>"
      ]
     },
     "metadata": {},
     "output_type": "display_data"
    },
    {
     "data": {
      "image/png": "[encoded data removed]",
      "text/plain": [
       "<Figure size 1296x216 with 6 Axes>"
      ]
     },
     "metadata": {},
     "output_type": "display_data"
    },
    {
     "data": {
      "image/png": "[encoded data removed]",
      "text/plain": [
       "<Figure size 1296x216 with 6 Axes>"
      ]
     },
     "metadata": {},
     "output_type": "display_data"
    }
   ],
   "source": [
    "plot_metrics(train_metrics, base_metric=base_metrics[\"train\"]);\n",
    "plt.suptitle(\"Train\");\n",
    "plot_metrics(dev_metrics, base_metric=base_metrics[\"dev\"]);\n",
    "plt.suptitle(\"Dev\");\n",
    "plot_metrics(test_metrics, base_metric=base_metrics[\"test\"]);\n",
    "plt.suptitle(\"Test\");"
   ]
  },
  {
   "cell_type": "code",
   "execution_count": 26,
   "metadata": {},
   "outputs": [
    {
     "data": {
      "text/html": [
       "<div>\n",
       "<style scoped>\n",
       "    .dataframe tbody tr th:only-of-type {\n",
       "        vertical-align: middle;\n",
       "    }\n",
       "\n",
       "    .dataframe tbody tr th {\n",
       "        vertical-align: top;\n",
       "    }\n",
       "\n",
       "    .dataframe thead tr th {\n",
       "        text-align: left;\n",
       "    }\n",
       "\n",
       "    .dataframe thead tr:last-of-type th {\n",
       "        text-align: right;\n",
       "    }\n",
       "</style>\n",
       "<table border=\"1\" class=\"dataframe\">\n",
       "  <thead>\n",
       "    <tr>\n",
       "      <th></th>\n",
       "      <th colspan=\"6\" halign=\"left\">value</th>\n",
       "    </tr>\n",
       "    <tr>\n",
       "      <th>metric</th>\n",
       "      <th>macro avg</th>\n",
       "      <th>micro avg</th>\n",
       "      <th>negative</th>\n",
       "      <th>neutral</th>\n",
       "      <th>positive</th>\n",
       "      <th>weighted avg</th>\n",
       "    </tr>\n",
       "    <tr>\n",
       "      <th>iteration</th>\n",
       "      <th></th>\n",
       "      <th></th>\n",
       "      <th></th>\n",
       "      <th></th>\n",
       "      <th></th>\n",
       "      <th></th>\n",
       "    </tr>\n",
       "  </thead>\n",
       "  <tbody>\n",
       "    <tr>\n",
       "      <th>0</th>\n",
       "      <td>0.530780</td>\n",
       "      <td>0.598494</td>\n",
       "      <td>0.332927</td>\n",
       "      <td>0.635594</td>\n",
       "      <td>0.623820</td>\n",
       "      <td>0.586439</td>\n",
       "    </tr>\n",
       "    <tr>\n",
       "      <th>1</th>\n",
       "      <td>0.548654</td>\n",
       "      <td>0.601350</td>\n",
       "      <td>0.386907</td>\n",
       "      <td>0.634539</td>\n",
       "      <td>0.624517</td>\n",
       "      <td>0.594177</td>\n",
       "    </tr>\n",
       "    <tr>\n",
       "      <th>2</th>\n",
       "      <td>0.553905</td>\n",
       "      <td>0.605939</td>\n",
       "      <td>0.394222</td>\n",
       "      <td>0.640645</td>\n",
       "      <td>0.626846</td>\n",
       "      <td>0.599059</td>\n",
       "    </tr>\n",
       "    <tr>\n",
       "      <th>3</th>\n",
       "      <td>0.556995</td>\n",
       "      <td>0.607670</td>\n",
       "      <td>0.399144</td>\n",
       "      <td>0.641884</td>\n",
       "      <td>0.629957</td>\n",
       "      <td>0.601538</td>\n",
       "    </tr>\n",
       "    <tr>\n",
       "      <th>4</th>\n",
       "      <td>0.560659</td>\n",
       "      <td>0.610180</td>\n",
       "      <td>0.406665</td>\n",
       "      <td>0.645901</td>\n",
       "      <td>0.629410</td>\n",
       "      <td>0.604377</td>\n",
       "    </tr>\n",
       "    <tr>\n",
       "      <th>5</th>\n",
       "      <td>0.565865</td>\n",
       "      <td>0.615331</td>\n",
       "      <td>0.413024</td>\n",
       "      <td>0.652834</td>\n",
       "      <td>0.631738</td>\n",
       "      <td>0.609513</td>\n",
       "    </tr>\n",
       "    <tr>\n",
       "      <th>6</th>\n",
       "      <td>0.566391</td>\n",
       "      <td>0.616716</td>\n",
       "      <td>0.411146</td>\n",
       "      <td>0.656954</td>\n",
       "      <td>0.631072</td>\n",
       "      <td>0.610967</td>\n",
       "    </tr>\n",
       "    <tr>\n",
       "      <th>7</th>\n",
       "      <td>0.566287</td>\n",
       "      <td>0.618231</td>\n",
       "      <td>0.409205</td>\n",
       "      <td>0.659893</td>\n",
       "      <td>0.629762</td>\n",
       "      <td>0.611604</td>\n",
       "    </tr>\n",
       "    <tr>\n",
       "      <th>8</th>\n",
       "      <td>0.565753</td>\n",
       "      <td>0.621088</td>\n",
       "      <td>0.400657</td>\n",
       "      <td>0.665691</td>\n",
       "      <td>0.630911</td>\n",
       "      <td>0.613552</td>\n",
       "    </tr>\n",
       "    <tr>\n",
       "      <th>9</th>\n",
       "      <td>0.568243</td>\n",
       "      <td>0.623426</td>\n",
       "      <td>0.404498</td>\n",
       "      <td>0.669508</td>\n",
       "      <td>0.630724</td>\n",
       "      <td>0.615884</td>\n",
       "    </tr>\n",
       "    <tr>\n",
       "      <th>10</th>\n",
       "      <td>0.568211</td>\n",
       "      <td>0.623166</td>\n",
       "      <td>0.404995</td>\n",
       "      <td>0.669542</td>\n",
       "      <td>0.630097</td>\n",
       "      <td>0.615741</td>\n",
       "    </tr>\n",
       "  </tbody>\n",
       "</table>\n",
       "</div>"
      ],
      "text/plain": [
       "              value                                                     \n",
       "metric    macro avg micro avg  negative   neutral  positive weighted avg\n",
       "iteration                                                               \n",
       "0          0.530780  0.598494  0.332927  0.635594  0.623820     0.586439\n",
       "1          0.548654  0.601350  0.386907  0.634539  0.624517     0.594177\n",
       "2          0.553905  0.605939  0.394222  0.640645  0.626846     0.599059\n",
       "3          0.556995  0.607670  0.399144  0.641884  0.629957     0.601538\n",
       "4          0.560659  0.610180  0.406665  0.645901  0.629410     0.604377\n",
       "5          0.565865  0.615331  0.413024  0.652834  0.631738     0.609513\n",
       "6          0.566391  0.616716  0.411146  0.656954  0.631072     0.610967\n",
       "7          0.566287  0.618231  0.409205  0.659893  0.629762     0.611604\n",
       "8          0.565753  0.621088  0.400657  0.665691  0.630911     0.613552\n",
       "9          0.568243  0.623426  0.404498  0.669508  0.630724     0.615884\n",
       "10         0.568211  0.623166  0.404995  0.669542  0.630097     0.615741"
      ]
     },
     "execution_count": 26,
     "metadata": {},
     "output_type": "execute_result"
    },
    {
     "data": {
      "image/png": "[encoded data removed]",
      "text/plain": [
       "<Figure size 1296x216 with 6 Axes>"
      ]
     },
     "metadata": {},
     "output_type": "display_data"
    }
   ],
   "source": [
    "plot_metrics(test_metrics).pivot(index=\"iteration\", columns=\"metric\")"
   ]
  },
  {
   "cell_type": "code",
   "execution_count": 27,
   "metadata": {},
   "outputs": [
    {
     "data": {
      "text/plain": [
       "(          negative  neutral  positive\n",
       " negative       789      666       281\n",
       " neutral        131     4379       713\n",
       " positive        62      883      4341,\n",
       "               f1-score  precision    recall  support\n",
       " negative      0.580574   0.803462  0.454493   1736.0\n",
       " neutral       0.785400   0.738698  0.838407   5223.0\n",
       " positive      0.817437   0.813683  0.821226   5286.0\n",
       " micro avg     0.776562   0.776562  0.776562  12245.0\n",
       " macro avg     0.727804   0.785281  0.704709  12245.0\n",
       " weighted avg  0.770192   0.780250  0.776562  12245.0)"
      ]
     },
     "execution_count": 27,
     "metadata": {},
     "output_type": "execute_result"
    }
   ],
   "source": [
    "base_metrics[\"train\"]"
   ]
  },
  {
   "cell_type": "markdown",
   "metadata": {},
   "source": [
    "## Experiments using min margin difference"
   ]
  },
  {
   "cell_type": "code",
   "execution_count": 28,
   "metadata": {},
   "outputs": [],
   "source": [
    "def min_margin_scoring(predictions):\n",
    "    \"\"\"Difference between the top prediction score and next prediction score\n",
    "    \n",
    "    predictions: it is n_labels x n_instances\n",
    "    \n",
    "    returns:\n",
    "        n_instances np.array\n",
    "    \"\"\"\n",
    "    prediction_values = np.sort(predictions, axis=0)[-2:, :]\n",
    "    margin = prediction_values[-1] - prediction_values[-2]\n",
    "    return margin"
   ]
  },
  {
   "cell_type": "code",
   "execution_count": 29,
   "metadata": {},
   "outputs": [
    {
     "data": {
      "text/plain": [
       "array([0.34879655, 0.30072185, 0.2093319 , 0.34552407, 0.42091988,\n",
       "       0.20089244, 0.25978973, 0.27245263, 0.34894669, 0.28634118])"
      ]
     },
     "execution_count": 29,
     "metadata": {},
     "output_type": "execute_result"
    }
   ],
   "source": [
    "np.sort(model.predict_proba(df_dev.head(10).text).T, axis=0)[-2:, :][-2]"
   ]
  },
  {
   "cell_type": "code",
   "execution_count": 30,
   "metadata": {},
   "outputs": [
    {
     "data": {
      "text/plain": [
       "array([0.19507107, 0.13877572, 0.49609675, 0.05791894, 0.00630884,\n",
       "       0.47267852, 0.31676016, 0.35883191, 0.15301023, 0.29194455])"
      ]
     },
     "execution_count": 30,
     "metadata": {},
     "output_type": "execute_result"
    }
   ],
   "source": [
    "min_margin_scoring(model.predict_proba(df_dev.head(10).text).T)"
   ]
  },
  {
   "cell_type": "code",
   "execution_count": 31,
   "metadata": {},
   "outputs": [
    {
     "data": {
      "text/html": [
       "<div>\n",
       "<style scoped>\n",
       "    .dataframe tbody tr th:only-of-type {\n",
       "        vertical-align: middle;\n",
       "    }\n",
       "\n",
       "    .dataframe tbody tr th {\n",
       "        vertical-align: top;\n",
       "    }\n",
       "\n",
       "    .dataframe thead th {\n",
       "        text-align: right;\n",
       "    }\n",
       "</style>\n",
       "<table border=\"1\" class=\"dataframe\">\n",
       "  <thead>\n",
       "    <tr style=\"text-align: right;\">\n",
       "      <th></th>\n",
       "      <th>label</th>\n",
       "      <th>text</th>\n",
       "      <th>tweet_id</th>\n",
       "      <th>negative</th>\n",
       "      <th>neutral</th>\n",
       "      <th>positive</th>\n",
       "      <th>selection_scores</th>\n",
       "    </tr>\n",
       "  </thead>\n",
       "  <tbody>\n",
       "    <tr>\n",
       "      <th>2350</th>\n",
       "      <td>positive</td>\n",
       "      <td>tomorrow a shooting day ! gonna spend whole da...</td>\n",
       "      <td>636061301609922560</td>\n",
       "      <td>0.216506</td>\n",
       "      <td>0.391748</td>\n",
       "      <td>0.391746</td>\n",
       "      <td>0.000003</td>\n",
       "    </tr>\n",
       "    <tr>\n",
       "      <th>3061</th>\n",
       "      <td>negative</td>\n",
       "      <td>The LAST thing we need is more corn and more M...</td>\n",
       "      <td>639274258598748160</td>\n",
       "      <td>0.130084</td>\n",
       "      <td>0.434916</td>\n",
       "      <td>0.434999</td>\n",
       "      <td>0.000083</td>\n",
       "    </tr>\n",
       "    <tr>\n",
       "      <th>3052</th>\n",
       "      <td>negative</td>\n",
       "      <td>Nice One Hillary...don't want to mention Tar S...</td>\n",
       "      <td>639240697934057473</td>\n",
       "      <td>0.327535</td>\n",
       "      <td>0.336145</td>\n",
       "      <td>0.336320</td>\n",
       "      <td>0.000175</td>\n",
       "    </tr>\n",
       "    <tr>\n",
       "      <th>421</th>\n",
       "      <td>negative</td>\n",
       "      <td>Come scoop meRT @_BoatsnHoes: I gotta go shopp...</td>\n",
       "      <td>263146025630437376</td>\n",
       "      <td>0.311527</td>\n",
       "      <td>0.344411</td>\n",
       "      <td>0.344061</td>\n",
       "      <td>0.000350</td>\n",
       "    </tr>\n",
       "    <tr>\n",
       "      <th>2478</th>\n",
       "      <td>negative</td>\n",
       "      <td>@steve196508 Evrn worse for people born around...</td>\n",
       "      <td>636774312062619649</td>\n",
       "      <td>0.403393</td>\n",
       "      <td>0.403759</td>\n",
       "      <td>0.192848</td>\n",
       "      <td>0.000366</td>\n",
       "    </tr>\n",
       "    <tr>\n",
       "      <th>4567</th>\n",
       "      <td>positive</td>\n",
       "      <td>Fashion is Serena's 2nd love, she has a collec...</td>\n",
       "      <td>641666231993548800</td>\n",
       "      <td>0.113075</td>\n",
       "      <td>0.443223</td>\n",
       "      <td>0.443702</td>\n",
       "      <td>0.000479</td>\n",
       "    </tr>\n",
       "    <tr>\n",
       "      <th>1417</th>\n",
       "      <td>neutral</td>\n",
       "      <td>@wildandkyung btw from one gay babe to another...</td>\n",
       "      <td>626461225405313024</td>\n",
       "      <td>0.183517</td>\n",
       "      <td>0.407987</td>\n",
       "      <td>0.408496</td>\n",
       "      <td>0.000509</td>\n",
       "    </tr>\n",
       "    <tr>\n",
       "      <th>4504</th>\n",
       "      <td>negative</td>\n",
       "      <td>@BitterOldJoe it gave the impression the whole...</td>\n",
       "      <td>641631867461050368</td>\n",
       "      <td>0.107007</td>\n",
       "      <td>0.446779</td>\n",
       "      <td>0.446213</td>\n",
       "      <td>0.000566</td>\n",
       "    </tr>\n",
       "    <tr>\n",
       "      <th>2092</th>\n",
       "      <td>positive</td>\n",
       "      <td>SD News - SD Opera figure makes Tom Cruise loo...</td>\n",
       "      <td>634780207472353281</td>\n",
       "      <td>0.073707</td>\n",
       "      <td>0.463464</td>\n",
       "      <td>0.462829</td>\n",
       "      <td>0.000635</td>\n",
       "    </tr>\n",
       "    <tr>\n",
       "      <th>3197</th>\n",
       "      <td>negative</td>\n",
       "      <td>If Scotland woke up tomorrow and decided we we...</td>\n",
       "      <td>639737580859326464</td>\n",
       "      <td>0.237801</td>\n",
       "      <td>0.380714</td>\n",
       "      <td>0.381485</td>\n",
       "      <td>0.000770</td>\n",
       "    </tr>\n",
       "  </tbody>\n",
       "</table>\n",
       "</div>"
      ],
      "text/plain": [
       "         label                                               text  \\\n",
       "2350  positive  tomorrow a shooting day ! gonna spend whole da...   \n",
       "3061  negative  The LAST thing we need is more corn and more M...   \n",
       "3052  negative  Nice One Hillary...don't want to mention Tar S...   \n",
       "421   negative  Come scoop meRT @_BoatsnHoes: I gotta go shopp...   \n",
       "2478  negative  @steve196508 Evrn worse for people born around...   \n",
       "4567  positive  Fashion is Serena's 2nd love, she has a collec...   \n",
       "1417   neutral  @wildandkyung btw from one gay babe to another...   \n",
       "4504  negative  @BitterOldJoe it gave the impression the whole...   \n",
       "2092  positive  SD News - SD Opera figure makes Tom Cruise loo...   \n",
       "3197  negative  If Scotland woke up tomorrow and decided we we...   \n",
       "\n",
       "                tweet_id  negative   neutral  positive  selection_scores  \n",
       "2350  636061301609922560  0.216506  0.391748  0.391746          0.000003  \n",
       "3061  639274258598748160  0.130084  0.434916  0.434999          0.000083  \n",
       "3052  639240697934057473  0.327535  0.336145  0.336320          0.000175  \n",
       "421   263146025630437376  0.311527  0.344411  0.344061          0.000350  \n",
       "2478  636774312062619649  0.403393  0.403759  0.192848          0.000366  \n",
       "4567  641666231993548800  0.113075  0.443223  0.443702          0.000479  \n",
       "1417  626461225405313024  0.183517  0.407987  0.408496          0.000509  \n",
       "4504  641631867461050368  0.107007  0.446779  0.446213          0.000566  \n",
       "2092  634780207472353281  0.073707  0.463464  0.462829          0.000635  \n",
       "3197  639737580859326464  0.237801  0.380714  0.381485          0.000770  "
      ]
     },
     "execution_count": 31,
     "metadata": {},
     "output_type": "execute_result"
    }
   ],
   "source": [
    "df_pred = get_predictions(df_dev, model, scoring=min_margin_scoring)\n",
    "df_pred.sort_values(\"selection_scores\", ascending=True).head(10)"
   ]
  },
  {
   "cell_type": "code",
   "execution_count": 32,
   "metadata": {},
   "outputs": [
    {
     "name": "stdout",
     "output_type": "stream",
     "text": [
      "Starting iteration 0\n",
      "df_train: (12245, 4)\n",
      "df_selected: (1000, 4)\n",
      "df_unselected: (11245, 4)\n",
      "New indexes: 100\n",
      "Selected data distribution: {'neutral': 44, 'positive': 34, 'negative': 22}\n",
      "Total training size: 1100\n",
      "Starting iteration 1\n",
      "df_train: (12245, 4)\n",
      "df_selected: (1100, 4)\n",
      "df_unselected: (11145, 4)\n",
      "New indexes: 100\n",
      "Selected data distribution: {'neutral': 46, 'positive': 38, 'negative': 16}\n",
      "Total training size: 1200\n",
      "Starting iteration 2\n",
      "df_train: (12245, 4)\n",
      "df_selected: (1200, 4)\n",
      "df_unselected: (11045, 4)\n",
      "New indexes: 100\n",
      "Selected data distribution: {'positive': 43, 'neutral': 35, 'negative': 22}\n",
      "Total training size: 1300\n",
      "Starting iteration 3\n",
      "df_train: (12245, 4)\n",
      "df_selected: (1300, 4)\n",
      "df_unselected: (10945, 4)\n",
      "New indexes: 100\n",
      "Selected data distribution: {'neutral': 47, 'positive': 33, 'negative': 20}\n",
      "Total training size: 1400\n",
      "Starting iteration 4\n",
      "df_train: (12245, 4)\n",
      "df_selected: (1400, 4)\n",
      "df_unselected: (10845, 4)\n",
      "New indexes: 100\n",
      "Selected data distribution: {'neutral': 51, 'positive': 33, 'negative': 16}\n",
      "Total training size: 1500\n",
      "Starting iteration 5\n",
      "df_train: (12245, 4)\n",
      "df_selected: (1500, 4)\n",
      "df_unselected: (10745, 4)\n",
      "New indexes: 100\n",
      "Selected data distribution: {'positive': 44, 'neutral': 40, 'negative': 16}\n",
      "Total training size: 1600\n",
      "Starting iteration 6\n",
      "df_train: (12245, 4)\n",
      "df_selected: (1600, 4)\n",
      "df_unselected: (10645, 4)\n",
      "New indexes: 100\n",
      "Selected data distribution: {'neutral': 48, 'positive': 36, 'negative': 16}\n",
      "Total training size: 1700\n",
      "Starting iteration 7\n",
      "df_train: (12245, 4)\n",
      "df_selected: (1700, 4)\n",
      "df_unselected: (10545, 4)\n",
      "New indexes: 100\n",
      "Selected data distribution: {'neutral': 52, 'positive': 35, 'negative': 13}\n",
      "Total training size: 1800\n",
      "Starting iteration 8\n",
      "df_train: (12245, 4)\n",
      "df_selected: (1800, 4)\n",
      "df_unselected: (10445, 4)\n",
      "New indexes: 100\n",
      "Selected data distribution: {'neutral': 42, 'positive': 39, 'negative': 19}\n",
      "Total training size: 1900\n",
      "Starting iteration 9\n",
      "df_train: (12245, 4)\n",
      "df_selected: (1900, 4)\n",
      "df_unselected: (10345, 4)\n",
      "New indexes: 100\n",
      "Selected data distribution: {'positive': 43, 'neutral': 40, 'negative': 17}\n",
      "Total training size: 2000\n"
     ]
    }
   ],
   "source": [
    "df_train[\"selected\"] = False\n",
    "df_train.loc[selected_indexes, \"selected\"] = True\n",
    "\n",
    "train_metrics = []\n",
    "dev_metrics = []\n",
    "test_metrics = []\n",
    "training_indexes = selected_indexes\n",
    "ANNOTATIONS_PER_STEP=100\n",
    "MAX_ITERATIONS=10\n",
    "\n",
    "steps = [\n",
    "    ('TfidfVectorizer', TfidfVectorizer(tokenizer=preprocess_text, stop_words=\"english\")), \n",
    "    ('model', LogisticRegression())\n",
    "]\n",
    "model = Pipeline(steps)\n",
    "\n",
    "for i in range(MAX_ITERATIONS):\n",
    "    print(f\"Starting iteration {i}\")\n",
    "    # Identifiy selected data\n",
    "    print(f\"df_train: {df_train.shape}\")\n",
    "    df_selected = df_train[df_train.selected]\n",
    "    print(f\"df_selected: {df_selected.shape}\")\n",
    "    df_unselected = df_train[~df_train.selected]\n",
    "    print(f\"df_unselected: {df_unselected.shape}\")\n",
    "    # Fit model\n",
    "    model.fit(df_selected.text, df_selected.label)\n",
    "    # Get model metrics\n",
    "    train_metrics.append(classification_metrics(df_unselected, model))\n",
    "    dev_metrics.append(classification_metrics(df_dev, model))\n",
    "    test_metrics.append(classification_metrics(df_test, model))\n",
    "    #print(f\"Dev metrics: {dev_metrics[-1][1]}\")\n",
    "    #print(f\"Test metrics: {test_metrics[-1][1]}\")\n",
    "    # Get model predictions on unselected data\n",
    "    df_pred = get_predictions(df_unselected, model, scoring=min_margin_scoring)\n",
    "    #df_pred.selection_scores.plot(kind=\"hist\", bins=100, density=True)\n",
    "    #plt.show()\n",
    "    # Identify top instances to label\n",
    "    new_indexes = df_pred.sort_values(\"selection_scores\", ascending=True).head(ANNOTATIONS_PER_STEP).index\n",
    "    print(f\"New indexes: {len(new_indexes)}\")\n",
    "    print(f\"Selected data distribution: {df_pred.loc[new_indexes].label.value_counts().to_dict()}\")\n",
    "    # Add these instances to the training data\n",
    "    training_indexes = np.hstack([training_indexes, new_indexes])\n",
    "    df_train.loc[new_indexes, \"selected\"] = True\n",
    "    print(f\"Total training size: {df_train[df_train.selected].shape[0]}\")\n",
    "\n",
    "# Fit on the last data\n",
    "df_selected = df_train[df_train.selected]\n",
    "df_unselected = df_train[~df_train.selected]\n",
    "model.fit(df_selected.text, df_selected.label)\n",
    "train_metrics.append(classification_metrics(df_unselected, model))\n",
    "dev_metrics.append(classification_metrics(df_dev, model))\n",
    "test_metrics.append(classification_metrics(df_test, model))"
   ]
  },
  {
   "cell_type": "code",
   "execution_count": 33,
   "metadata": {},
   "outputs": [
    {
     "data": {
      "text/plain": [
       "(10345, 8)"
      ]
     },
     "execution_count": 33,
     "metadata": {},
     "output_type": "execute_result"
    }
   ],
   "source": [
    "df_pred.shape"
   ]
  },
  {
   "cell_type": "code",
   "execution_count": 34,
   "metadata": {},
   "outputs": [
    {
     "data": {
      "image/png": "[encoded data removed]",
      "text/plain": [
       "<Figure size 1296x216 with 6 Axes>"
      ]
     },
     "metadata": {},
     "output_type": "display_data"
    },
    {
     "data": {
      "image/png": "[encoded data removed]",
      "text/plain": [
       "<Figure size 1296x216 with 6 Axes>"
      ]
     },
     "metadata": {},
     "output_type": "display_data"
    },
    {
     "data": {
      "image/png": "[encoded data removed]",
      "text/plain": [
       "<Figure size 1296x216 with 6 Axes>"
      ]
     },
     "metadata": {},
     "output_type": "display_data"
    }
   ],
   "source": [
    "plot_metrics(train_metrics, base_metric=base_metrics[\"train\"]);\n",
    "plt.suptitle(\"Train\");\n",
    "plot_metrics(dev_metrics, base_metric=base_metrics[\"dev\"]);\n",
    "plt.suptitle(\"Dev\");\n",
    "plot_metrics(test_metrics, base_metric=base_metrics[\"test\"]);\n",
    "plt.suptitle(\"Test\");"
   ]
  },
  {
   "cell_type": "code",
   "execution_count": 35,
   "metadata": {},
   "outputs": [
    {
     "data": {
      "text/html": [
       "<div>\n",
       "<style scoped>\n",
       "    .dataframe tbody tr th:only-of-type {\n",
       "        vertical-align: middle;\n",
       "    }\n",
       "\n",
       "    .dataframe tbody tr th {\n",
       "        vertical-align: top;\n",
       "    }\n",
       "\n",
       "    .dataframe thead tr th {\n",
       "        text-align: left;\n",
       "    }\n",
       "\n",
       "    .dataframe thead tr:last-of-type th {\n",
       "        text-align: right;\n",
       "    }\n",
       "</style>\n",
       "<table border=\"1\" class=\"dataframe\">\n",
       "  <thead>\n",
       "    <tr>\n",
       "      <th></th>\n",
       "      <th colspan=\"6\" halign=\"left\">value</th>\n",
       "    </tr>\n",
       "    <tr>\n",
       "      <th>metric</th>\n",
       "      <th>macro avg</th>\n",
       "      <th>micro avg</th>\n",
       "      <th>negative</th>\n",
       "      <th>neutral</th>\n",
       "      <th>positive</th>\n",
       "      <th>weighted avg</th>\n",
       "    </tr>\n",
       "    <tr>\n",
       "      <th>iteration</th>\n",
       "      <th></th>\n",
       "      <th></th>\n",
       "      <th></th>\n",
       "      <th></th>\n",
       "      <th></th>\n",
       "      <th></th>\n",
       "    </tr>\n",
       "  </thead>\n",
       "  <tbody>\n",
       "    <tr>\n",
       "      <th>0</th>\n",
       "      <td>0.530780</td>\n",
       "      <td>0.598494</td>\n",
       "      <td>0.332927</td>\n",
       "      <td>0.635594</td>\n",
       "      <td>0.623820</td>\n",
       "      <td>0.586439</td>\n",
       "    </tr>\n",
       "    <tr>\n",
       "      <th>1</th>\n",
       "      <td>0.536660</td>\n",
       "      <td>0.600788</td>\n",
       "      <td>0.348205</td>\n",
       "      <td>0.639968</td>\n",
       "      <td>0.621806</td>\n",
       "      <td>0.590051</td>\n",
       "    </tr>\n",
       "    <tr>\n",
       "      <th>2</th>\n",
       "      <td>0.539809</td>\n",
       "      <td>0.605462</td>\n",
       "      <td>0.347567</td>\n",
       "      <td>0.646297</td>\n",
       "      <td>0.625562</td>\n",
       "      <td>0.594394</td>\n",
       "    </tr>\n",
       "    <tr>\n",
       "      <th>3</th>\n",
       "      <td>0.546782</td>\n",
       "      <td>0.606718</td>\n",
       "      <td>0.367261</td>\n",
       "      <td>0.643478</td>\n",
       "      <td>0.629606</td>\n",
       "      <td>0.597456</td>\n",
       "    </tr>\n",
       "    <tr>\n",
       "      <th>4</th>\n",
       "      <td>0.550094</td>\n",
       "      <td>0.612518</td>\n",
       "      <td>0.364196</td>\n",
       "      <td>0.651646</td>\n",
       "      <td>0.634440</td>\n",
       "      <td>0.602723</td>\n",
       "    </tr>\n",
       "    <tr>\n",
       "      <th>5</th>\n",
       "      <td>0.554922</td>\n",
       "      <td>0.615158</td>\n",
       "      <td>0.374788</td>\n",
       "      <td>0.656528</td>\n",
       "      <td>0.633450</td>\n",
       "      <td>0.606267</td>\n",
       "    </tr>\n",
       "    <tr>\n",
       "      <th>6</th>\n",
       "      <td>0.557462</td>\n",
       "      <td>0.615851</td>\n",
       "      <td>0.380952</td>\n",
       "      <td>0.655081</td>\n",
       "      <td>0.636354</td>\n",
       "      <td>0.607563</td>\n",
       "    </tr>\n",
       "    <tr>\n",
       "      <th>7</th>\n",
       "      <td>0.558625</td>\n",
       "      <td>0.619227</td>\n",
       "      <td>0.377522</td>\n",
       "      <td>0.660537</td>\n",
       "      <td>0.637817</td>\n",
       "      <td>0.610220</td>\n",
       "    </tr>\n",
       "    <tr>\n",
       "      <th>8</th>\n",
       "      <td>0.557401</td>\n",
       "      <td>0.620179</td>\n",
       "      <td>0.372538</td>\n",
       "      <td>0.664287</td>\n",
       "      <td>0.635379</td>\n",
       "      <td>0.610378</td>\n",
       "    </tr>\n",
       "    <tr>\n",
       "      <th>9</th>\n",
       "      <td>0.560420</td>\n",
       "      <td>0.621348</td>\n",
       "      <td>0.379161</td>\n",
       "      <td>0.664452</td>\n",
       "      <td>0.637647</td>\n",
       "      <td>0.612280</td>\n",
       "    </tr>\n",
       "    <tr>\n",
       "      <th>10</th>\n",
       "      <td>0.562449</td>\n",
       "      <td>0.622343</td>\n",
       "      <td>0.383169</td>\n",
       "      <td>0.664995</td>\n",
       "      <td>0.639182</td>\n",
       "      <td>0.613705</td>\n",
       "    </tr>\n",
       "  </tbody>\n",
       "</table>\n",
       "</div>"
      ],
      "text/plain": [
       "              value                                                     \n",
       "metric    macro avg micro avg  negative   neutral  positive weighted avg\n",
       "iteration                                                               \n",
       "0          0.530780  0.598494  0.332927  0.635594  0.623820     0.586439\n",
       "1          0.536660  0.600788  0.348205  0.639968  0.621806     0.590051\n",
       "2          0.539809  0.605462  0.347567  0.646297  0.625562     0.594394\n",
       "3          0.546782  0.606718  0.367261  0.643478  0.629606     0.597456\n",
       "4          0.550094  0.612518  0.364196  0.651646  0.634440     0.602723\n",
       "5          0.554922  0.615158  0.374788  0.656528  0.633450     0.606267\n",
       "6          0.557462  0.615851  0.380952  0.655081  0.636354     0.607563\n",
       "7          0.558625  0.619227  0.377522  0.660537  0.637817     0.610220\n",
       "8          0.557401  0.620179  0.372538  0.664287  0.635379     0.610378\n",
       "9          0.560420  0.621348  0.379161  0.664452  0.637647     0.612280\n",
       "10         0.562449  0.622343  0.383169  0.664995  0.639182     0.613705"
      ]
     },
     "execution_count": 35,
     "metadata": {},
     "output_type": "execute_result"
    },
    {
     "data": {
      "image/png": "[encoded data removed]",
      "text/plain": [
       "<Figure size 1296x216 with 6 Axes>"
      ]
     },
     "metadata": {},
     "output_type": "display_data"
    }
   ],
   "source": [
    "plot_metrics(test_metrics).pivot(index=\"iteration\", columns=\"metric\")"
   ]
  },
  {
   "cell_type": "code",
   "execution_count": 36,
   "metadata": {},
   "outputs": [
    {
     "data": {
      "text/plain": [
       "<matplotlib.axes._subplots.AxesSubplot at 0x1bdb43c35c0>"
      ]
     },
     "execution_count": 36,
     "metadata": {},
     "output_type": "execute_result"
    },
    {
     "data": {
      "image/png": "[encoded data removed]",
      "text/plain": [
       "<Figure size 432x288 with 1 Axes>"
      ]
     },
     "metadata": {},
     "output_type": "display_data"
    }
   ],
   "source": [
    "df_pred.selection_scores.plot(kind=\"hist\", bins=100, density=True)"
   ]
  },
  {
   "cell_type": "code",
   "execution_count": null,
   "metadata": {},
   "outputs": [],
   "source": []
  }
 ],
 "metadata": {
  "kernelspec": {
   "display_name": "Python 3",
   "language": "python",
   "name": "python3"
  },
  "language_info": {
   "codemirror_mode": {
    "name": "ipython",
    "version": 3
   },
   "file_extension": ".py",
   "mimetype": "text/x-python",
   "name": "python",
   "nbconvert_exporter": "python",
   "pygments_lexer": "ipython3",
   "version": "3.6.8"
  }
 },
 "nbformat": 4,
 "nbformat_minor": 2
}
